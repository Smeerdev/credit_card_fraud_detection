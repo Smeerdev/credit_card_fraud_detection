{
  "nbformat": 4,
  "nbformat_minor": 0,
  "metadata": {
    "colab": {
      "provenance": []
    },
    "kernelspec": {
      "name": "python3",
      "display_name": "Python 3"
    },
    "language_info": {
      "name": "python"
    }
  },
  "cells": [
    {
      "cell_type": "code",
      "execution_count": 1,
      "metadata": {
        "colab": {
          "base_uri": "https://localhost:8080/"
        },
        "id": "LdEeRx-FzVVk",
        "outputId": "a4786a3b-c9f6-4f44-b263-d20101a04b4e"
      },
      "outputs": [
        {
          "output_type": "stream",
          "name": "stdout",
          "text": [
            "   Time        V1        V2        V3        V4        V5        V6        V7  \\\n",
            "0     0 -1.359807 -0.072781  2.536347  1.378155 -0.338321  0.462388  0.239599   \n",
            "1     0  1.191857  0.266151  0.166480  0.448154  0.060018 -0.082361 -0.078803   \n",
            "2     1 -1.358354 -1.340163  1.773209  0.379780 -0.503198  1.800499  0.791461   \n",
            "3     1 -0.966272 -0.185226  1.792993 -0.863291 -0.010309  1.247203  0.237609   \n",
            "4     2 -1.158233  0.877737  1.548718  0.403034 -0.407193  0.095921  0.592941   \n",
            "\n",
            "         V8        V9  ...       V21       V22       V23       V24       V25  \\\n",
            "0  0.098698  0.363787  ... -0.018307  0.277838 -0.110474  0.066928  0.128539   \n",
            "1  0.085102 -0.255425  ... -0.225775 -0.638672  0.101288 -0.339846  0.167170   \n",
            "2  0.247676 -1.514654  ...  0.247998  0.771679  0.909412 -0.689281 -0.327642   \n",
            "3  0.377436 -1.387024  ... -0.108300  0.005274 -0.190321 -1.175575  0.647376   \n",
            "4 -0.270533  0.817739  ... -0.009431  0.798278 -0.137458  0.141267 -0.206010   \n",
            "\n",
            "        V26       V27       V28  Amount  Class  \n",
            "0 -0.189115  0.133558 -0.021053  149.62      0  \n",
            "1  0.125895 -0.008983  0.014724    2.69      1  \n",
            "2 -0.139097 -0.055353 -0.059752  378.66      0  \n",
            "3 -0.221929  0.062723  0.061458  123.50      0  \n",
            "4  0.502292  0.219422  0.215153   69.99      0  \n",
            "\n",
            "[5 rows x 31 columns]\n",
            "<class 'pandas.core.frame.DataFrame'>\n",
            "RangeIndex: 772 entries, 0 to 771\n",
            "Data columns (total 31 columns):\n",
            " #   Column  Non-Null Count  Dtype  \n",
            "---  ------  --------------  -----  \n",
            " 0   Time    772 non-null    int64  \n",
            " 1   V1      772 non-null    float64\n",
            " 2   V2      772 non-null    float64\n",
            " 3   V3      772 non-null    float64\n",
            " 4   V4      772 non-null    float64\n",
            " 5   V5      772 non-null    float64\n",
            " 6   V6      772 non-null    float64\n",
            " 7   V7      772 non-null    float64\n",
            " 8   V8      772 non-null    float64\n",
            " 9   V9      772 non-null    float64\n",
            " 10  V10     772 non-null    float64\n",
            " 11  V11     772 non-null    float64\n",
            " 12  V12     772 non-null    float64\n",
            " 13  V13     772 non-null    float64\n",
            " 14  V14     772 non-null    float64\n",
            " 15  V15     772 non-null    float64\n",
            " 16  V16     772 non-null    float64\n",
            " 17  V17     772 non-null    float64\n",
            " 18  V18     772 non-null    float64\n",
            " 19  V19     772 non-null    float64\n",
            " 20  V20     772 non-null    float64\n",
            " 21  V21     772 non-null    float64\n",
            " 22  V22     772 non-null    float64\n",
            " 23  V23     772 non-null    float64\n",
            " 24  V24     772 non-null    float64\n",
            " 25  V25     772 non-null    float64\n",
            " 26  V26     772 non-null    float64\n",
            " 27  V27     772 non-null    float64\n",
            " 28  V28     772 non-null    float64\n",
            " 29  Amount  772 non-null    float64\n",
            " 30  Class   772 non-null    int64  \n",
            "dtypes: float64(29), int64(2)\n",
            "memory usage: 187.1 KB\n",
            "None\n"
          ]
        }
      ],
      "source": [
        "import pandas as pd\n",
        "\n",
        "# Load the dataset\n",
        "data = pd.read_csv(\"/content/Creditcard_data.csv\")\n",
        "print(data.head())\n",
        "print(data.info())"
      ]
    },
    {
      "cell_type": "code",
      "source": [
        "\n",
        "#To check if the class is imbalance\n",
        "print(data['Class'].value_counts())"
      ],
      "metadata": {
        "colab": {
          "base_uri": "https://localhost:8080/"
        },
        "id": "6QTvMzy2z-3I",
        "outputId": "fcbadfd7-bd4b-4d5f-f941-d3683474004c"
      },
      "execution_count": 2,
      "outputs": [
        {
          "output_type": "stream",
          "name": "stdout",
          "text": [
            "Class\n",
            "0    763\n",
            "1      9\n",
            "Name: count, dtype: int64\n"
          ]
        }
      ]
    },
    {
      "cell_type": "code",
      "source": [
        "from imblearn.over_sampling import SMOTE\n",
        "\n",
        "# Define features (X) and labels (y)\n",
        "X = data.drop(columns='Class')\n",
        "y = data['Class']\n",
        "\n",
        "# Apply SMOTE\n",
        "smote = SMOTE(random_state=42)\n",
        "X_balanced, y_balanced = smote.fit_resample(X, y)\n",
        "\n",
        "print(y_balanced.value_counts())"
      ],
      "metadata": {
        "colab": {
          "base_uri": "https://localhost:8080/"
        },
        "id": "M2by6DH-0lnz",
        "outputId": "d04989ec-0de2-4a24-ad7a-9a66e0d41b5e"
      },
      "execution_count": 3,
      "outputs": [
        {
          "output_type": "stream",
          "name": "stdout",
          "text": [
            "Class\n",
            "0    763\n",
            "1    763\n",
            "Name: count, dtype: int64\n"
          ]
        }
      ]
    },
    {
      "cell_type": "code",
      "source": [
        "import pandas as pd\n",
        "from sklearn.model_selection import train_test_split\n",
        "\n",
        "# Assuming the balanced dataset is stored in X_balanced and y_balanced\n",
        "\n",
        "# Combine features and target for easier sampling\n",
        "balanced_data = pd.concat([X_balanced, pd.Series(y_balanced, name='Class')], axis=1)\n",
        "\n",
        "# Generate five different samples\n",
        "sample1 = balanced_data.sample(n=200, random_state=1)  # Random sampling\n",
        "sample2 = balanced_data.sample(n=200, random_state=2)  # Random sampling with a different seed\n",
        "_, sample3 = train_test_split(balanced_data, test_size=0.25, stratify=balanced_data['Class'], random_state=3)  # Stratified sampling\n",
        "sample4 = balanced_data.head(200)  # First 200 rows as a sample\n",
        "sample5 = balanced_data.tail(200)  # Last 200 rows as a sample\n",
        "\n",
        "# Save samples for future use\n",
        "samples = [sample1, sample2, sample3, sample4, sample5]\n",
        "for i, sample in enumerate(samples, 1):\n",
        "    sample.to_csv(f\"sample{i}.csv\", index=False)"
      ],
      "metadata": {
        "id": "Qs2wh9Kg0tNv"
      },
      "execution_count": 4,
      "outputs": []
    },
    {
      "cell_type": "code",
      "source": [
        "from sklearn.ensemble import GradientBoostingClassifier\n",
        "from sklearn.naive_bayes import GaussianNB\n",
        "from sklearn.discriminant_analysis import LinearDiscriminantAnalysis\n",
        "from sklearn.neural_network import MLPClassifier\n",
        "from sklearn.linear_model import RidgeClassifier\n",
        "from sklearn.metrics import accuracy_score\n",
        "from sklearn.model_selection import train_test_split\n",
        "\n",
        "# Models to use\n",
        "models = {\n",
        "    \"Gradient Boosting\": GradientBoostingClassifier(random_state=42),\n",
        "    \"Naive Bayes\": GaussianNB(),\n",
        "    \"LDA\": LinearDiscriminantAnalysis(),\n",
        "    \"MLP Classifier\": MLPClassifier(max_iter=1000, random_state=42),\n",
        "    \"Ridge Classifier\": RidgeClassifier(),\n",
        "}\n",
        "\n",
        "# Apply models to each sample\n",
        "for i, sample in enumerate(samples, 1):\n",
        "    print(f\"Results for Sample {i}\")\n",
        "    X = sample.drop(columns='Class')\n",
        "    y = sample['Class']\n",
        "\n",
        "    # Stratified split to ensure class distribution is preserved\n",
        "    X_train, X_test, y_train, y_test = train_test_split(\n",
        "        X, y, test_size=0.3, random_state=42, stratify=y\n",
        "    )\n",
        "\n",
        "    # Validate presence of both classes in training set\n",
        "    if len(y_train.unique()) < 2 or len(y_test.unique()) < 2:\n",
        "        print(f\"Skipping Sample {i}: Not enough class representation in train/test split.\")\n",
        "        continue\n",
        "\n",
        "    # Train and evaluate each model\n",
        "    for model_name, model in models.items():\n",
        "        model.fit(X_train, y_train)\n",
        "        y_pred = model.predict(X_test)\n",
        "        accuracy = accuracy_score(y_test, y_pred)\n",
        "        print(f\"{model_name}: Accuracy = {accuracy:.2f}\")\n",
        "    print(\"-\" * 40)\n"
      ],
      "metadata": {
        "colab": {
          "base_uri": "https://localhost:8080/"
        },
        "id": "eBaChja51ANK",
        "outputId": "3d55e9a6-3be4-49c9-8a96-3ae85cbf5798"
      },
      "execution_count": 5,
      "outputs": [
        {
          "output_type": "stream",
          "name": "stdout",
          "text": [
            "Results for Sample 1\n",
            "Gradient Boosting: Accuracy = 0.93\n",
            "Naive Bayes: Accuracy = 0.80\n",
            "LDA: Accuracy = 0.83\n",
            "MLP Classifier: Accuracy = 0.90\n",
            "Ridge Classifier: Accuracy = 0.85\n",
            "----------------------------------------\n",
            "Results for Sample 2\n",
            "Gradient Boosting: Accuracy = 0.88\n",
            "Naive Bayes: Accuracy = 0.83\n",
            "LDA: Accuracy = 0.80\n",
            "MLP Classifier: Accuracy = 0.65\n",
            "Ridge Classifier: Accuracy = 0.83\n",
            "----------------------------------------\n",
            "Results for Sample 3\n",
            "Gradient Boosting: Accuracy = 0.98\n",
            "Naive Bayes: Accuracy = 0.86\n",
            "LDA: Accuracy = 0.85\n",
            "MLP Classifier: Accuracy = 0.95\n",
            "Ridge Classifier: Accuracy = 0.83\n",
            "----------------------------------------\n",
            "Results for Sample 4\n",
            "Gradient Boosting: Accuracy = 0.98\n",
            "Naive Bayes: Accuracy = 0.98\n",
            "LDA: Accuracy = 0.93\n",
            "MLP Classifier: Accuracy = 0.98\n",
            "Ridge Classifier: Accuracy = 0.98\n",
            "----------------------------------------\n",
            "Results for Sample 5\n",
            "Skipping Sample 5: Not enough class representation in train/test split.\n"
          ]
        }
      ]
    }
  ]
}